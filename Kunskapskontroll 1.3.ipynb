{
 "cells": [
  {
   "cell_type": "code",
   "execution_count": 27,
   "id": "e4e7fe2e-2c4a-43fb-977e-d29025a9b9cb",
   "metadata": {},
   "outputs": [],
   "source": [
    "import pandas as pd"
   ]
  },
  {
   "cell_type": "markdown",
   "id": "d18f4652-e145-4de0-b7fc-35d1d8b5e859",
   "metadata": {},
   "source": [
    "# Explain what a CSV file is."
   ]
  },
  {
   "cell_type": "markdown",
   "id": "19b15d5a-d190-4331-a493-37a6ea972642",
   "metadata": {},
   "source": [
    "CSV file is something that stores tabular data in a simple format. By looking at a CSV file example you understand pretty quickly what it's about. Each line represents a row of data seperated using a comma. So for example if you have statistics of students when it comes to grade. It first be the name to the left and then you have every grade in a row to the right of that student in a row seperated by commas. Using excel, you can get a great presentation of many statistics and it can be usefull for data storage or transfers between different applications."
   ]
  },
  {
   "cell_type": "markdown",
   "id": "5af104df-e274-4a3e-baf2-79bdc7a9e3bd",
   "metadata": {},
   "source": [
    "# Load the data set \"cars_data\" through Pandas."
   ]
  },
  {
   "cell_type": "code",
   "execution_count": 68,
   "id": "36625142-7c06-4299-9c29-282d95568b1d",
   "metadata": {},
   "outputs": [],
   "source": [
    "cars = pd.read_csv(\"cars_data.csv\")"
   ]
  },
  {
   "cell_type": "markdown",
   "id": "62af7c51-744d-46a9-b220-c3edd78e339c",
   "metadata": {},
   "source": [
    "# Print the first 10 rows of the data."
   ]
  },
  {
   "cell_type": "code",
   "execution_count": 33,
   "id": "f8f239d9-96b3-4df1-8573-2f523f7e6693",
   "metadata": {},
   "outputs": [
    {
     "name": "stdout",
     "output_type": "stream",
     "text": [
      "   index      company   body-style  wheel-base  length engine-type  \\\n",
      "0      0  alfa-romero  convertible        88.6   168.8        dohc   \n",
      "1      1  alfa-romero  convertible        88.6   168.8        dohc   \n",
      "2      2  alfa-romero    hatchback        94.5   171.2        ohcv   \n",
      "3      3         audi        sedan        99.8   176.6         ohc   \n",
      "4      4         audi        sedan        99.4   176.6         ohc   \n",
      "5      5         audi        sedan        99.8   177.3         ohc   \n",
      "6      6         audi        wagon       105.8   192.7         ohc   \n",
      "7      9          bmw        sedan       101.2   176.8         ohc   \n",
      "8     10          bmw        sedan       101.2   176.8         ohc   \n",
      "9     11          bmw        sedan       101.2   176.8         ohc   \n",
      "\n",
      "  num-of-cylinders  horsepower  average-mileage    price  \n",
      "0             four         111               21  13495.0  \n",
      "1             four         111               21  16500.0  \n",
      "2              six         154               19  16500.0  \n",
      "3             four         102               24  13950.0  \n",
      "4             five         115               18  17450.0  \n",
      "5             five         110               19  15250.0  \n",
      "6             five         110               19  18920.0  \n",
      "7             four         101               23  16430.0  \n",
      "8             four         101               23  16925.0  \n",
      "9              six         121               21  20970.0  \n"
     ]
    }
   ],
   "source": [
    "df = pd.read_csv(\"cars_data.csv\")\n",
    "print(df.head(10))"
   ]
  },
  {
   "cell_type": "markdown",
   "id": "5602a3ca-d52f-4c81-9d04-cbbaaad8724c",
   "metadata": {},
   "source": [
    "# Print the last 5 rows."
   ]
  },
  {
   "cell_type": "code",
   "execution_count": 41,
   "id": "69314411-5e62-459f-9bdd-9dc159c5929e",
   "metadata": {},
   "outputs": [
    {
     "name": "stdout",
     "output_type": "stream",
     "text": [
      "    index     company body-style  wheel-base  length engine-type  \\\n",
      "56     81  volkswagen      sedan        97.3   171.7         ohc   \n",
      "57     82  volkswagen      sedan        97.3   171.7         ohc   \n",
      "58     86  volkswagen      sedan        97.3   171.7         ohc   \n",
      "59     87       volvo      sedan       104.3   188.8         ohc   \n",
      "60     88       volvo      wagon       104.3   188.8         ohc   \n",
      "\n",
      "   num-of-cylinders  horsepower  average-mileage    price  \n",
      "56             four          85               27   7975.0  \n",
      "57             four          52               37   7995.0  \n",
      "58             four         100               26   9995.0  \n",
      "59             four         114               23  12940.0  \n",
      "60             four         114               23  13415.0  \n"
     ]
    }
   ],
   "source": [
    "print(df.tail(5))"
   ]
  },
  {
   "cell_type": "markdown",
   "id": "925731ff-7594-498c-80a4-690471f17f80",
   "metadata": {},
   "source": [
    "# By using the info method, check how many non-null rows each column have."
   ]
  },
  {
   "cell_type": "code",
   "execution_count": 48,
   "id": "dfbd4e6c-ff97-4f89-897c-21c191f7f8e6",
   "metadata": {},
   "outputs": [
    {
     "name": "stdout",
     "output_type": "stream",
     "text": [
      "<class 'pandas.core.frame.DataFrame'>\n",
      "RangeIndex: 61 entries, 0 to 60\n",
      "Data columns (total 10 columns):\n",
      " #   Column            Non-Null Count  Dtype  \n",
      "---  ------            --------------  -----  \n",
      " 0   index             61 non-null     int64  \n",
      " 1   company           61 non-null     object \n",
      " 2   body-style        61 non-null     object \n",
      " 3   wheel-base        61 non-null     float64\n",
      " 4   length            61 non-null     float64\n",
      " 5   engine-type       61 non-null     object \n",
      " 6   num-of-cylinders  61 non-null     object \n",
      " 7   horsepower        61 non-null     int64  \n",
      " 8   average-mileage   61 non-null     int64  \n",
      " 9   price             58 non-null     float64\n",
      "dtypes: float64(3), int64(3), object(4)\n",
      "memory usage: 4.9+ KB\n"
     ]
    }
   ],
   "source": [
    "df.info()"
   ]
  },
  {
   "cell_type": "markdown",
   "id": "706eefe1-12e2-4670-9b13-c96f97b33c95",
   "metadata": {},
   "source": [
    "# If any column has a missing value, drop the entire row. Notice, the operation should be inplace meaning you change the dataframe itself."
   ]
  },
  {
   "cell_type": "code",
   "execution_count": 90,
   "id": "f705d5a1-e524-4178-adbb-772453eddf9c",
   "metadata": {},
   "outputs": [],
   "source": [
    "df.dropna(inplace=True)"
   ]
  },
  {
   "cell_type": "code",
   "execution_count": 57,
   "id": "66e3fc8d-90c6-4101-861b-ac118ebfd94f",
   "metadata": {},
   "outputs": [
    {
     "name": "stdout",
     "output_type": "stream",
     "text": [
      "<class 'pandas.core.frame.DataFrame'>\n",
      "Index: 58 entries, 0 to 60\n",
      "Data columns (total 10 columns):\n",
      " #   Column            Non-Null Count  Dtype  \n",
      "---  ------            --------------  -----  \n",
      " 0   index             58 non-null     int64  \n",
      " 1   company           58 non-null     object \n",
      " 2   body-style        58 non-null     object \n",
      " 3   wheel-base        58 non-null     float64\n",
      " 4   length            58 non-null     float64\n",
      " 5   engine-type       58 non-null     object \n",
      " 6   num-of-cylinders  58 non-null     object \n",
      " 7   horsepower        58 non-null     int64  \n",
      " 8   average-mileage   58 non-null     int64  \n",
      " 9   price             58 non-null     float64\n",
      "dtypes: float64(3), int64(3), object(4)\n",
      "memory usage: 5.0+ KB\n"
     ]
    }
   ],
   "source": [
    "df.info()"
   ]
  },
  {
   "cell_type": "markdown",
   "id": "c587342f-af58-41b5-8949-4b7ec2390ec1",
   "metadata": {},
   "source": [
    "# Calculate the mean of each numeric column."
   ]
  },
  {
   "cell_type": "code",
   "execution_count": 115,
   "id": "306fa647-51a8-4e39-9c55-cc6b68d0c3d0",
   "metadata": {},
   "outputs": [
    {
     "name": "stdout",
     "output_type": "stream",
     "text": [
      "index                 40.827586\n",
      "wheel-base            98.620690\n",
      "length               173.646552\n",
      "horsepower           106.051724\n",
      "average-mileage       25.534483\n",
      "price              15387.000000\n",
      "dtype: float64\n"
     ]
    }
   ],
   "source": [
    "numeric_means = df.mean(numeric_only=True)\n",
    "print(numeric_means)"
   ]
  },
  {
   "cell_type": "markdown",
   "id": "6cc284a2-e051-401a-b05f-4fd28b3a591e",
   "metadata": {},
   "source": [
    "# Select the rows where the column \"company\" is equal to 'honda'."
   ]
  },
  {
   "cell_type": "code",
   "execution_count": 118,
   "id": "952adc72-5815-4054-bf9e-b885e9c62521",
   "metadata": {},
   "outputs": [
    {
     "name": "stdout",
     "output_type": "stream",
     "text": [
      "    index company body-style  wheel-base  length engine-type num-of-cylinders  \\\n",
      "18     27   honda      wagon        96.5   157.1         ohc             four   \n",
      "19     28   honda      sedan        96.5   175.4         ohc             four   \n",
      "20     29   honda      sedan        96.5   169.1         ohc             four   \n",
      "\n",
      "    horsepower  average-mileage    price  \n",
      "18          76               30   7295.0  \n",
      "19         101               24  12945.0  \n",
      "20         100               25  10345.0  \n"
     ]
    }
   ],
   "source": [
    "honda_rows = df[df[\"company\"] == \"honda\"]\n",
    "print(honda_rows)"
   ]
  },
  {
   "cell_type": "markdown",
   "id": "5ea38d5a-c226-4f08-8edc-bfd6873276c5",
   "metadata": {},
   "source": [
    "# Sort the data set by price in descending order. This should not be an inplace operation."
   ]
  },
  {
   "cell_type": "code",
   "execution_count": 125,
   "id": "4a34b584-6b14-4b39-a770-6a4695c60efa",
   "metadata": {},
   "outputs": [
    {
     "name": "stdout",
     "output_type": "stream",
     "text": [
      "    index        company   body-style  wheel-base  length engine-type  \\\n",
      "35     47  mercedes-benz      hardtop       112.0   199.2        ohcv   \n",
      "11     14            bmw        sedan       103.5   193.8         ohc   \n",
      "34     46  mercedes-benz        sedan       120.9   208.1        ohcv   \n",
      "46     62        porsche  convertible        89.5   168.9        ohcf   \n",
      "12     15            bmw        sedan       110.0   197.0         ohc   \n",
      "26     35         jaguar        sedan       102.0   191.7        ohcv   \n",
      "25     34         jaguar        sedan       113.0   199.6        dohc   \n",
      "45     61        porsche      hardtop        89.5   168.9        ohcf   \n",
      "24     33         jaguar        sedan       113.0   199.6        dohc   \n",
      "10     13            bmw        sedan       103.5   189.0         ohc   \n",
      "33     45  mercedes-benz        wagon       110.0   190.9         ohc   \n",
      "32     44  mercedes-benz        sedan       110.0   190.9         ohc   \n",
      "9      11            bmw        sedan       101.2   176.8         ohc   \n",
      "6       6           audi        wagon       105.8   192.7         ohc   \n",
      "31     43          mazda        sedan       104.9   175.0         ohc   \n",
      "4       4           audi        sedan        99.4   176.6         ohc   \n",
      "8      10            bmw        sedan       101.2   176.8         ohc   \n",
      "2       2    alfa-romero    hatchback        94.5   171.2        ohcv   \n",
      "1       1    alfa-romero  convertible        88.6   168.8        dohc   \n",
      "7       9            bmw        sedan       101.2   176.8         ohc   \n",
      "54     79         toyota        wagon       104.5   187.8        dohc   \n",
      "5       5           audi        sedan        99.8   177.3         ohc   \n",
      "3       3           audi        sedan        99.8   176.6         ohc   \n",
      "44     57         nissan        sedan       100.4   184.6        ohcv   \n",
      "0       0    alfa-romero  convertible        88.6   168.8        dohc   \n",
      "60     88          volvo        wagon       104.3   188.8         ohc   \n",
      "19     28          honda        sedan        96.5   175.4         ohc   \n",
      "59     87          volvo        sedan       104.3   188.8         ohc   \n",
      "30     39          mazda    hatchback        95.3   169.0       rotor   \n",
      "20     29          honda        sedan        96.5   169.1         ohc   \n",
      "58     86     volkswagen        sedan        97.3   171.7         ohc   \n",
      "53     71         toyota        wagon        95.7   169.7         ohc   \n",
      "39     52     mitsubishi        sedan        96.3   172.4         ohc   \n",
      "57     82     volkswagen        sedan        97.3   171.7         ohc   \n",
      "56     81     volkswagen        sedan        97.3   171.7         ohc   \n",
      "52     70         toyota        wagon        95.7   169.7         ohc   \n",
      "55     80     volkswagen        sedan        97.3   171.7         ohc   \n",
      "43     56         nissan        wagon        94.5   170.2         ohc   \n",
      "18     27          honda        wagon        96.5   157.1         ohc   \n",
      "40     53         nissan        sedan        94.5   165.3         ohc   \n",
      "38     51     mitsubishi        sedan        96.3   172.4         ohc   \n",
      "51     69         toyota        wagon        95.7   169.7         ohc   \n",
      "42     55         nissan        sedan        94.5   165.3         ohc   \n",
      "29     38          mazda    hatchback        93.1   159.1         ohc   \n",
      "21     30          isuzu        sedan        94.3   170.7         ohc   \n",
      "41     54         nissan        sedan        94.5   165.3         ohc   \n",
      "15     18      chevrolet        sedan        94.5   158.8         ohc   \n",
      "50     68         toyota    hatchback        95.7   158.7         ohc   \n",
      "16     19          dodge    hatchback        93.7   157.3         ohc   \n",
      "49     67         toyota    hatchback        95.7   158.7         ohc   \n",
      "14     17      chevrolet    hatchback        94.5   155.9         ohc   \n",
      "17     20          dodge    hatchback        93.7   157.3         ohc   \n",
      "37     50     mitsubishi    hatchback        93.7   157.3         ohc   \n",
      "28     37          mazda    hatchback        93.1   159.1         ohc   \n",
      "36     49     mitsubishi    hatchback        93.7   157.3         ohc   \n",
      "48     66         toyota    hatchback        95.7   158.7         ohc   \n",
      "27     36          mazda    hatchback        93.1   159.1         ohc   \n",
      "13     16      chevrolet    hatchback        88.4   141.1           l   \n",
      "\n",
      "   num-of-cylinders  horsepower  average-mileage    price  \n",
      "35            eight         184               14  45400.0  \n",
      "11              six         182               16  41315.0  \n",
      "34            eight         184               14  40960.0  \n",
      "46              six         207               17  37028.0  \n",
      "12              six         182               15  36880.0  \n",
      "26           twelve         262               13  36000.0  \n",
      "25              six         176               15  35550.0  \n",
      "45              six         207               17  34028.0  \n",
      "24              six         176               15  32250.0  \n",
      "10              six         182               16  30760.0  \n",
      "33             five         123               22  28248.0  \n",
      "32             five         123               22  25552.0  \n",
      "9               six         121               21  20970.0  \n",
      "6              five         110               19  18920.0  \n",
      "31             four          72               31  18344.0  \n",
      "4              five         115               18  17450.0  \n",
      "8              four         101               23  16925.0  \n",
      "2               six         154               19  16500.0  \n",
      "1              four         111               21  16500.0  \n",
      "7              four         101               23  16430.0  \n",
      "54              six         156               19  15750.0  \n",
      "5              five         110               19  15250.0  \n",
      "3              four         102               24  13950.0  \n",
      "44              six         152               19  13499.0  \n",
      "0              four         111               21  13495.0  \n",
      "60             four         114               23  13415.0  \n",
      "19             four         101               24  12945.0  \n",
      "59             four         114               23  12940.0  \n",
      "30              two         101               17  11845.0  \n",
      "20             four         100               25  10345.0  \n",
      "58             four         100               26   9995.0  \n",
      "53             four          62               27   8778.0  \n",
      "39             four          88               25   8189.0  \n",
      "57             four          52               37   7995.0  \n",
      "56             four          85               27   7975.0  \n",
      "52             four          62               27   7898.0  \n",
      "55             four          52               37   7775.0  \n",
      "43             four          69               31   7349.0  \n",
      "18             four          76               30   7295.0  \n",
      "40             four          55               45   7099.0  \n",
      "38             four          88               25   6989.0  \n",
      "51             four          62               31   6918.0  \n",
      "42             four          69               31   6849.0  \n",
      "29             four          68               31   6795.0  \n",
      "21             four          78               24   6785.0  \n",
      "41             four          69               31   6649.0  \n",
      "15             four          70               38   6575.0  \n",
      "50             four          62               31   6488.0  \n",
      "16             four          68               31   6377.0  \n",
      "49             four          62               31   6338.0  \n",
      "14             four          70               38   6295.0  \n",
      "17             four          68               31   6229.0  \n",
      "37             four          68               31   6189.0  \n",
      "28             four          68               31   6095.0  \n",
      "36             four          68               37   5389.0  \n",
      "48             four          62               35   5348.0  \n",
      "27             four          68               30   5195.0  \n",
      "13            three          48               47   5151.0  \n"
     ]
    }
   ],
   "source": [
    "sorted_df = df.sort_values(by = \"price\", ascending=False)\n",
    "print(sorted_df)"
   ]
  },
  {
   "cell_type": "markdown",
   "id": "6890ba50-ab52-49b6-92f8-fb65012ec94e",
   "metadata": {},
   "source": [
    "# Select the rows where the column \"company\" is equal to any of the values (audi, bmw, porsche)."
   ]
  },
  {
   "cell_type": "code",
   "execution_count": 130,
   "id": "fa2de07f-e1ec-4b57-9c97-714485509e71",
   "metadata": {},
   "outputs": [
    {
     "name": "stdout",
     "output_type": "stream",
     "text": [
      "    index  company   body-style  wheel-base  length engine-type  \\\n",
      "3       3     audi        sedan        99.8   176.6         ohc   \n",
      "4       4     audi        sedan        99.4   176.6         ohc   \n",
      "5       5     audi        sedan        99.8   177.3         ohc   \n",
      "6       6     audi        wagon       105.8   192.7         ohc   \n",
      "7       9      bmw        sedan       101.2   176.8         ohc   \n",
      "8      10      bmw        sedan       101.2   176.8         ohc   \n",
      "9      11      bmw        sedan       101.2   176.8         ohc   \n",
      "10     13      bmw        sedan       103.5   189.0         ohc   \n",
      "11     14      bmw        sedan       103.5   193.8         ohc   \n",
      "12     15      bmw        sedan       110.0   197.0         ohc   \n",
      "45     61  porsche      hardtop        89.5   168.9        ohcf   \n",
      "46     62  porsche  convertible        89.5   168.9        ohcf   \n",
      "\n",
      "   num-of-cylinders  horsepower  average-mileage    price  \n",
      "3              four         102               24  13950.0  \n",
      "4              five         115               18  17450.0  \n",
      "5              five         110               19  15250.0  \n",
      "6              five         110               19  18920.0  \n",
      "7              four         101               23  16430.0  \n",
      "8              four         101               23  16925.0  \n",
      "9               six         121               21  20970.0  \n",
      "10              six         182               16  30760.0  \n",
      "11              six         182               16  41315.0  \n",
      "12              six         182               15  36880.0  \n",
      "45              six         207               17  34028.0  \n",
      "46              six         207               17  37028.0  \n"
     ]
    }
   ],
   "source": [
    "company_column = df[df['company'].isin(['audi', 'bmw', 'porsche'])]\n",
    "print(company_column)"
   ]
  },
  {
   "cell_type": "markdown",
   "id": "bb3a1560-b8f8-408d-ae17-c81767646b6d",
   "metadata": {},
   "source": [
    "# Find the number of cars (rows) for each company."
   ]
  },
  {
   "cell_type": "code",
   "execution_count": 133,
   "id": "c0674415-20fe-44dd-a124-f05472da8e2e",
   "metadata": {},
   "outputs": [
    {
     "name": "stdout",
     "output_type": "stream",
     "text": [
      "company\n",
      "toyota           7\n",
      "bmw              6\n",
      "mazda            5\n",
      "nissan           5\n",
      "audi             4\n",
      "mercedes-benz    4\n",
      "mitsubishi       4\n",
      "volkswagen       4\n",
      "alfa-romero      3\n",
      "chevrolet        3\n",
      "honda            3\n",
      "jaguar           3\n",
      "dodge            2\n",
      "porsche          2\n",
      "volvo            2\n",
      "isuzu            1\n",
      "Name: count, dtype: int64\n"
     ]
    }
   ],
   "source": [
    "car_counts = df['company'].value_counts()\n",
    "print(car_counts)"
   ]
  },
  {
   "cell_type": "markdown",
   "id": "15fe0237-d058-4eee-a287-214df4b97cfc",
   "metadata": {},
   "source": [
    "# Find the maximum price for each company."
   ]
  },
  {
   "cell_type": "code",
   "execution_count": 136,
   "id": "63162a8a-f3ac-415c-9fa8-d3fad4f21836",
   "metadata": {},
   "outputs": [
    {
     "name": "stdout",
     "output_type": "stream",
     "text": [
      "company\n",
      "alfa-romero      16500.0\n",
      "audi             18920.0\n",
      "bmw              41315.0\n",
      "chevrolet         6575.0\n",
      "dodge             6377.0\n",
      "honda            12945.0\n",
      "isuzu             6785.0\n",
      "jaguar           36000.0\n",
      "mazda            18344.0\n",
      "mercedes-benz    45400.0\n",
      "mitsubishi        8189.0\n",
      "nissan           13499.0\n",
      "porsche          37028.0\n",
      "toyota           15750.0\n",
      "volkswagen        9995.0\n",
      "volvo            13415.0\n",
      "Name: price, dtype: float64\n"
     ]
    }
   ],
   "source": [
    "maximum_prices = df.groupby('company')['price'].max()\n",
    "print(maximum_prices)"
   ]
  }
 ],
 "metadata": {
  "kernelspec": {
   "display_name": "Python 3 (ipykernel)",
   "language": "python",
   "name": "python3"
  },
  "language_info": {
   "codemirror_mode": {
    "name": "ipython",
    "version": 3
   },
   "file_extension": ".py",
   "mimetype": "text/x-python",
   "name": "python",
   "nbconvert_exporter": "python",
   "pygments_lexer": "ipython3",
   "version": "3.12.4"
  }
 },
 "nbformat": 4,
 "nbformat_minor": 5
}
