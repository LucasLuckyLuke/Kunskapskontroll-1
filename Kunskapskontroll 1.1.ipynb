{
 "cells": [
  {
   "cell_type": "code",
   "execution_count": 168,
   "id": "f9a463d4-ea78-4872-9116-478db80d8002",
   "metadata": {},
   "outputs": [],
   "source": [
    "import numpy as np"
   ]
  },
  {
   "cell_type": "markdown",
   "id": "74f55481-50eb-4366-ae6f-415e5d8e2f0f",
   "metadata": {},
   "source": [
    "# Print out the dimension (number of axes), shape, size and the datatype of the matrix A"
   ]
  },
  {
   "cell_type": "code",
   "execution_count": 23,
   "id": "9013e8b0-0490-42fb-b296-dc236827faa1",
   "metadata": {},
   "outputs": [],
   "source": [
    "A = np.arange(1, 16).reshape(3,5)"
   ]
  },
  {
   "cell_type": "code",
   "execution_count": 19,
   "id": "00eac9a3-a2bc-46fb-817e-97b3cddd8f95",
   "metadata": {},
   "outputs": [
    {
     "name": "stdout",
     "output_type": "stream",
     "text": [
      "Axes: 2\n",
      "Shape: (3, 5)\n",
      "Size: 15\n",
      "Datatype: int32\n"
     ]
    }
   ],
   "source": [
    "print(\"Axes:\", A.ndim)\n",
    "print(\"Shape:\", A.shape)\n",
    "print(\"Size:\", A.size)\n",
    "print(\"Datatype:\", A.dtype)"
   ]
  },
  {
   "cell_type": "markdown",
   "id": "c8c53bfb-7d8d-48f2-b08c-e869f2e7790e",
   "metadata": {},
   "source": [
    "# Do the following computations on the matrices B and C:\r\n",
    "Elementwise subtraction.\r\n",
    "Elementwise multiplication.\r\n",
    "Matrix multiplication (by default you should use the @ operator)."
   ]
  },
  {
   "cell_type": "code",
   "execution_count": 22,
   "id": "7d8aeb05-e291-43ad-942e-a6f34d9c863a",
   "metadata": {},
   "outputs": [
    {
     "name": "stdout",
     "output_type": "stream",
     "text": [
      "[[1 2 3]\n",
      " [4 5 6]\n",
      " [7 8 9]]\n",
      "\n",
      "[[2. 2. 2.]\n",
      " [2. 2. 2.]\n",
      " [2. 2. 2.]]\n"
     ]
    }
   ],
   "source": [
    "B = np.arange(1, 10).reshape(3, 3)\n",
    "C = np.ones((3, 3))*2\n",
    "\n",
    "print(B)\n",
    "print()\n",
    "print(C)"
   ]
  },
  {
   "cell_type": "code",
   "execution_count": 38,
   "id": "7ed14b61-2ce2-41eb-bb3f-4d5feeb79728",
   "metadata": {},
   "outputs": [
    {
     "name": "stdout",
     "output_type": "stream",
     "text": [
      "Elementwise_subtraction\n",
      "[[-1.  0.  1.]\n",
      " [ 2.  3.  4.]\n",
      " [ 5.  6.  7.]]\n",
      "Elementwise subtraction\n",
      "[[ 2.  4.  6.]\n",
      " [ 8. 10. 12.]\n",
      " [14. 16. 18.]]\n",
      "Elementwise multiplication\n",
      "[[12. 12. 12.]\n",
      " [30. 30. 30.]\n",
      " [48. 48. 48.]]\n"
     ]
    }
   ],
   "source": [
    "elementwise_subtraction = B - C\n",
    "print(\"Elementwise_subtraction\")\n",
    "print(elementwise_subtraction)\n",
    "\n",
    "elementwise_multiplication = B * C\n",
    "print(\"Elementwise subtraction\")\n",
    "print(elementwise_multiplication)\n",
    "\n",
    "matrix_multiplication = B @ C\n",
    "print(\"Elementwise multiplication\")\n",
    "print(matrix_multiplication)"
   ]
  },
  {
   "cell_type": "markdown",
   "id": "09ad8cd7-ca30-4b58-845e-3cdcebd048b2",
   "metadata": {},
   "source": [
    "# Do the following calculations on the matrix:\n",
    "Exponentiate each number elementwise (use the np.exp function).\n",
    "\n",
    "Calculate the minimum value in the whole matrix.\n",
    "\n",
    "Calculcate the minimum value in each row.\n",
    "\n",
    "Calculcate the minimum value in each column.\n",
    "\n",
    "Find the index value for the minimum value in the whole matrix (hint: use np.argmin).\n",
    "\n",
    "Find the index value for the minimum value in each row (hint: use np.argmin).\n",
    "\n",
    "Calculate the sum for all elements.\n",
    "\n",
    "Calculate the mean for each column.\n",
    "\n",
    "Calculate the median for each column."
   ]
  },
  {
   "cell_type": "code",
   "execution_count": 45,
   "id": "6cac8c0a-33f3-4668-80f2-ec8d05a5427f",
   "metadata": {},
   "outputs": [
    {
     "name": "stdout",
     "output_type": "stream",
     "text": [
      "[[1 2 3]\n",
      " [4 5 6]\n",
      " [7 8 9]]\n"
     ]
    }
   ],
   "source": [
    "B = np.arange(1, 10).reshape(3, 3)\n",
    "print(B)"
   ]
  },
  {
   "cell_type": "code",
   "execution_count": 51,
   "id": "50136db8-2c4c-4ba6-9fc3-f74a18ba8306",
   "metadata": {},
   "outputs": [
    {
     "name": "stdout",
     "output_type": "stream",
     "text": [
      "[[2.71828183e+00 7.38905610e+00 2.00855369e+01]\n",
      " [5.45981500e+01 1.48413159e+02 4.03428793e+02]\n",
      " [1.09663316e+03 2.98095799e+03 8.10308393e+03]]\n"
     ]
    }
   ],
   "source": [
    "Exponentiate_B = np.exp(B)\n",
    "print(Exponentiate_B)"
   ]
  },
  {
   "cell_type": "code",
   "execution_count": 53,
   "id": "66ff89b3-1a40-4f20-bc68-55810d49c989",
   "metadata": {},
   "outputs": [
    {
     "name": "stdout",
     "output_type": "stream",
     "text": [
      "1\n"
     ]
    }
   ],
   "source": [
    "Min_B = np.min(B)\n",
    "print(Min_B)"
   ]
  },
  {
   "cell_type": "code",
   "execution_count": 55,
   "id": "89bc6fdd-9670-4015-a243-a36a7e426626",
   "metadata": {},
   "outputs": [],
   "source": [
    "Min_value_per_row = np.min(B, axis = 1)"
   ]
  },
  {
   "cell_type": "code",
   "execution_count": 57,
   "id": "de3681e2-4a2a-408e-b2e2-f85a0b52f2dc",
   "metadata": {},
   "outputs": [
    {
     "name": "stdout",
     "output_type": "stream",
     "text": [
      "[1 4 7]\n"
     ]
    }
   ],
   "source": [
    "print(Min_value_per_row)"
   ]
  },
  {
   "cell_type": "code",
   "execution_count": 63,
   "id": "0fafea67-ac27-4bd5-ae77-c46a029c9498",
   "metadata": {},
   "outputs": [
    {
     "name": "stdout",
     "output_type": "stream",
     "text": [
      "[1 2 3]\n"
     ]
    }
   ],
   "source": [
    "Min_value_per_column_row = np.min(B, axis = 0)\n",
    "print(Min_value_per_column_row)"
   ]
  },
  {
   "cell_type": "code",
   "execution_count": 68,
   "id": "ee93d483-efe0-4ec7-8f81-328db852d935",
   "metadata": {},
   "outputs": [
    {
     "name": "stdout",
     "output_type": "stream",
     "text": [
      "0\n"
     ]
    }
   ],
   "source": [
    "Min_value_index = np.argmin(B)\n",
    "print(Min_value_index)"
   ]
  },
  {
   "cell_type": "code",
   "execution_count": 72,
   "id": "786ffa90-fc01-4c4f-8e3e-a92fad3034d6",
   "metadata": {},
   "outputs": [
    {
     "name": "stdout",
     "output_type": "stream",
     "text": [
      "[0 0 0]\n"
     ]
    }
   ],
   "source": [
    "Min_value_index_per_row = np.argmin(B, axis = 1)\n",
    "print(Min_value_index_per_row)"
   ]
  },
  {
   "cell_type": "code",
   "execution_count": 78,
   "id": "1f813296-c7f5-4cd9-822a-94f5ccfe28c0",
   "metadata": {},
   "outputs": [
    {
     "name": "stdout",
     "output_type": "stream",
     "text": [
      "45\n"
     ]
    }
   ],
   "source": [
    "All_elements_sum = np.sum(B)\n",
    "print(All_elements_sum)"
   ]
  },
  {
   "cell_type": "code",
   "execution_count": 88,
   "id": "3915d5ac-785f-4384-a7a3-45d559fc89c9",
   "metadata": {},
   "outputs": [
    {
     "name": "stdout",
     "output_type": "stream",
     "text": [
      "[4. 5. 6.]\n"
     ]
    }
   ],
   "source": [
    "Mean_each_column = np.mean(B, axis = 0)\n",
    "print(Mean_each_column)"
   ]
  },
  {
   "cell_type": "code",
   "execution_count": 90,
   "id": "4ae613e2-9570-44cf-a441-2a1cdf652f5d",
   "metadata": {},
   "outputs": [
    {
     "name": "stdout",
     "output_type": "stream",
     "text": [
      "[4. 5. 6.]\n"
     ]
    }
   ],
   "source": [
    "Median_each_column = np.median(B, axis = 0)\n",
    "print(Median_each_column)"
   ]
  },
  {
   "cell_type": "markdown",
   "id": "4ded1286-d8b0-4bba-b33f-3d7c691eb954",
   "metadata": {},
   "source": [
    "# What does it mean when you provide fewer indices than axes when slicing? See example below."
   ]
  },
  {
   "cell_type": "code",
   "execution_count": 95,
   "id": "d12d17ae-1aef-496a-aa0e-42dd95ebfb09",
   "metadata": {},
   "outputs": [
    {
     "name": "stdout",
     "output_type": "stream",
     "text": [
      "[[ 1  2  3  4  5]\n",
      " [ 6  7  8  9 10]\n",
      " [11 12 13 14 15]]\n"
     ]
    }
   ],
   "source": [
    "print(A)"
   ]
  },
  {
   "cell_type": "code",
   "execution_count": 97,
   "id": "68ee9018-d587-425d-8395-afcd940ddbe6",
   "metadata": {},
   "outputs": [
    {
     "data": {
      "text/plain": [
       "array([ 6,  7,  8,  9, 10])"
      ]
     },
     "execution_count": 97,
     "metadata": {},
     "output_type": "execute_result"
    }
   ],
   "source": [
    "A[1]"
   ]
  },
  {
   "cell_type": "markdown",
   "id": "7af9cfdc-0bdb-42ba-9996-0569bb52dd65",
   "metadata": {},
   "source": [
    "It means we get the elements that are on the provided index or indexes since numpy assumes with a provided index in this way that we want all the values that is on that row. And the elements that are not in those indexes or on different index not provided are being left out and not shown in the result. In this example we have 3 indexes going from 0 to 2. 0, 1, 2. And the index we are printing is 1. So index 0 and 2 are being left out and we get all the numbers only in index 1 because numpy again assumes we want all the elements on that index. So having fewer index than axes means we get a slice of the array on certain index or indexes with all the elements."
   ]
  },
  {
   "cell_type": "markdown",
   "id": "ce2c6405-db1a-4dc2-97ea-4ef5a4ad91c9",
   "metadata": {},
   "source": [
    "# Iterating over multidimensional arrays is done with respect to the first axis, so in the example below we iterate trough the rows. If you would like to iterate through the array elementwise, how would you do that?"
   ]
  },
  {
   "cell_type": "code",
   "execution_count": 25,
   "id": "7cafd1f9-e830-4038-877e-dcd6a63adc6b",
   "metadata": {},
   "outputs": [
    {
     "data": {
      "text/plain": [
       "array([[ 1,  2,  3,  4,  5],\n",
       "       [ 6,  7,  8,  9, 10],\n",
       "       [11, 12, 13, 14, 15]])"
      ]
     },
     "execution_count": 25,
     "metadata": {},
     "output_type": "execute_result"
    }
   ],
   "source": [
    "A"
   ]
  },
  {
   "cell_type": "code",
   "execution_count": 27,
   "id": "66975fed-8d58-4474-813f-ed1eb55e99d9",
   "metadata": {},
   "outputs": [
    {
     "name": "stdout",
     "output_type": "stream",
     "text": [
      "[1 2 3 4 5]\n",
      "[ 6  7  8  9 10]\n",
      "[11 12 13 14 15]\n"
     ]
    }
   ],
   "source": [
    "for i in A:\n",
    "    print(i)"
   ]
  },
  {
   "cell_type": "code",
   "execution_count": 29,
   "id": "180cb207-7d2b-4279-9d55-bd0f03b54cda",
   "metadata": {},
   "outputs": [
    {
     "name": "stdout",
     "output_type": "stream",
     "text": [
      "1\n",
      "2\n",
      "3\n",
      "4\n",
      "5\n",
      "6\n",
      "7\n",
      "8\n",
      "9\n",
      "10\n",
      "11\n",
      "12\n",
      "13\n",
      "14\n",
      "15\n"
     ]
    }
   ],
   "source": [
    "for i in np.nditer(A):\n",
    "    print(i)"
   ]
  },
  {
   "cell_type": "code",
   "execution_count": 31,
   "id": "5e8b3426-1495-4f4f-a046-212da8e6ae59",
   "metadata": {},
   "outputs": [
    {
     "name": "stdout",
     "output_type": "stream",
     "text": [
      "1\n",
      "2\n",
      "3\n",
      "4\n",
      "5\n",
      "6\n",
      "7\n",
      "8\n",
      "9\n",
      "10\n",
      "11\n",
      "12\n",
      "13\n",
      "14\n",
      "15\n"
     ]
    }
   ],
   "source": [
    "for i in A.flat:\n",
    "    print(i)"
   ]
  },
  {
   "cell_type": "code",
   "execution_count": 42,
   "id": "a3469e2b-5f34-4c8d-ba32-69f4151fc1eb",
   "metadata": {},
   "outputs": [
    {
     "name": "stdout",
     "output_type": "stream",
     "text": [
      "Object `mean` not found.\n",
      "[ 0  1  2  3  4  5  6  7  8  9 10 11 12 13 14 15 16 17 18 19 20 21 22 23\n",
      " 24 25 26 27 28 29]\n",
      "\n",
      "[[[ 0  1  2  3  4]\n",
      "  [ 5  6  7  8  9]\n",
      "  [10 11 12 13 14]]\n",
      "\n",
      " [[15 16 17 18 19]\n",
      "  [20 21 22 23 24]\n",
      "  [25 26 27 28 29]]]\n"
     ]
    }
   ],
   "source": [
    "Explain what the code below does. More specifically, b has three axes - what does this mean?\n",
    "a = np.arange(30)\n",
    "b = a.reshape((2, 3, -1))\n",
    "print(a)\n",
    "print()\n",
    "\n",
    "print(b)"
   ]
  },
  {
   "cell_type": "markdown",
   "id": "d2418aca-a5b1-4dd9-8eab-5f5a363eb16f",
   "metadata": {},
   "source": [
    "a = np.arange(30) Prints a 1D array with the values from 0 to 29 having 30 as it's limit number.\n",
    "b = a.reshape((2, 3, -1)) This code reshapes the 'a' function, making it a 3D array. By having number 2 as first dimension telling how many blocks the shape is gonna be. Number 3 telling the second dimension, how many rows each block is gonna have. The third dimension -1 tells numpy to calculate the dimension to fit based of the amount of elements we have, doing the work for us. If we wanna see it happen mathematically in this example we can take all the elements of the function 30 and divide it by rows. 30/6 and see that the answer is 5. Making each row contain 5 elements as we see in the results.\n",
    "So b having three axes means that function b has a collection of blocks or you can say collection of 2D arrays, it contains more than 1 2D array. Which then tells us and means that b is a 3D array."
   ]
  },
  {
   "cell_type": "markdown",
   "id": "72aa6c1f-0818-4e6d-bed3-8dfcd59d73ab",
   "metadata": {},
   "source": [
    "Chapter 2, exercise 1-3"
   ]
  },
  {
   "cell_type": "code",
   "execution_count": 49,
   "id": "380a97f5-5972-482f-be2e-38a0acf806bf",
   "metadata": {},
   "outputs": [],
   "source": [
    "A = np.array([[2, 1, -1],\n",
    "              [1, -1, 1]])\n",
    "\n",
    "B = np.array([[4, -2, 1],\n",
    "              [2, -4, -2]])\n",
    "\n",
    "C = np.array([[1, 2],\n",
    "              [2, 1]])\n",
    "\n",
    "D = np.array([[3, 4],\n",
    "              [4, 3]])\n",
    "\n",
    "E = np.array([[1],\n",
    "              [2]])"
   ]
  },
  {
   "cell_type": "code",
   "execution_count": 51,
   "id": "3b6d5b7b-159e-482b-85ac-fff9b082367e",
   "metadata": {},
   "outputs": [
    {
     "name": "stdout",
     "output_type": "stream",
     "text": [
      "[[ 0 -4  3]\n",
      " [ 0 -2 -4]]\n"
     ]
    }
   ],
   "source": [
    "B_minus_2A = B - 2 * A\n",
    "print(B_minus_2A)"
   ]
  },
  {
   "cell_type": "code",
   "execution_count": 59,
   "id": "70e55d74-8a4b-422a-a871-e075aa0bd2fe",
   "metadata": {},
   "outputs": [
    {
     "name": "stdout",
     "output_type": "stream",
     "text": [
      "[[2 5]\n",
      " [4 1]]\n"
     ]
    }
   ],
   "source": [
    "C3_minus_E = 3 * C - E\n",
    "print(C3_minus_E) #Not defined initially, but with broadcasting it works."
   ]
  },
  {
   "cell_type": "code",
   "execution_count": 170,
   "id": "8b6fb0c5-1ca4-4a74-808e-637e94a43de3",
   "metadata": {},
   "outputs": [
    {
     "ename": "ValueError",
     "evalue": "matmul: Input operand 1 has a mismatch in its core dimension 0, with gufunc signature (n?,k),(k,m?)->(n?,m?) (size 2 is different from 3)",
     "output_type": "error",
     "traceback": [
      "\u001b[1;31m---------------------------------------------------------------------------\u001b[0m",
      "\u001b[1;31mValueError\u001b[0m                                Traceback (most recent call last)",
      "Cell \u001b[1;32mIn[170], line 1\u001b[0m\n\u001b[1;32m----> 1\u001b[0m A_times_C \u001b[38;5;241m=\u001b[39m A \u001b[38;5;241m@\u001b[39m C\n\u001b[0;32m      2\u001b[0m \u001b[38;5;28mprint\u001b[39m(A_times_c)\n",
      "\u001b[1;31mValueError\u001b[0m: matmul: Input operand 1 has a mismatch in its core dimension 0, with gufunc signature (n?,k),(k,m?)->(n?,m?) (size 2 is different from 3)"
     ]
    }
   ],
   "source": [
    "A_times_C = A @ C\n",
    "print(A_times_c) #Not defined"
   ]
  },
  {
   "cell_type": "code",
   "execution_count": 75,
   "id": "951fd22f-41d8-4cfd-9187-982c7fb15af6",
   "metadata": {},
   "outputs": [
    {
     "name": "stdout",
     "output_type": "stream",
     "text": [
      "[[11 10]\n",
      " [10 11]]\n"
     ]
    }
   ],
   "source": [
    "C_times_D = C @ D\n",
    "print(C_times_D)"
   ]
  },
  {
   "cell_type": "code",
   "execution_count": 73,
   "id": "94293142-f79c-4a5a-9784-e6c468e241c4",
   "metadata": {},
   "outputs": [
    {
     "name": "stdout",
     "output_type": "stream",
     "text": [
      "[[  8 -10  -3]\n",
      " [ 10  -8   0]]\n"
     ]
    }
   ],
   "source": [
    "C_times_B = C @ B\n",
    "print(C_times_B)"
   ]
  },
  {
   "cell_type": "code",
   "execution_count": 79,
   "id": "4ed435b8-4ad6-4ea2-bd34-1f2c479011e0",
   "metadata": {},
   "outputs": [],
   "source": [
    "A = np.array([[1, 2],\n",
    "              [2, 4]])\n",
    "\n",
    "B = np.array([[2, 1],\n",
    "              [1, 3]])\n",
    "\n",
    "C = np.array([[4, 3],\n",
    "              [0, 2]])"
   ]
  },
  {
   "cell_type": "code",
   "execution_count": 81,
   "id": "4566d216-688d-46b7-a9f5-6307220c06fe",
   "metadata": {},
   "outputs": [],
   "source": [
    "A_times_B = A @ B"
   ]
  },
  {
   "cell_type": "code",
   "execution_count": 83,
   "id": "6308a70b-2a5c-43a1-b7d5-e392e3f53a14",
   "metadata": {},
   "outputs": [
    {
     "name": "stdout",
     "output_type": "stream",
     "text": [
      "[[ 4  7]\n",
      " [ 8 14]]\n"
     ]
    }
   ],
   "source": [
    "print (A_times_B)"
   ]
  },
  {
   "cell_type": "code",
   "execution_count": 91,
   "id": "76ae32a5-643d-4852-a734-ecc2cc21416b",
   "metadata": {},
   "outputs": [
    {
     "name": "stdout",
     "output_type": "stream",
     "text": [
      "[[ 4  7]\n",
      " [ 8 14]]\n"
     ]
    }
   ],
   "source": [
    "A_times_C = A @ C\n",
    "print(A_times_C)"
   ]
  },
  {
   "cell_type": "markdown",
   "id": "459430a7-bbdd-4825-80ce-d6ba06b3455e",
   "metadata": {},
   "source": [
    "AB = AC is correct!"
   ]
  },
  {
   "cell_type": "code",
   "execution_count": 94,
   "id": "b09a4442-29b5-4354-b410-251acc6c2bf6",
   "metadata": {},
   "outputs": [],
   "source": [
    "A = np.array([[1, 1, 1],\n",
    "              [1, 2, 3],\n",
    "              [1, 3, 4]])\n",
    "\n",
    "D = np.array([[2, 0, 0],\n",
    "              [0, 3, 0],\n",
    "              [0, 0, 4]])"
   ]
  },
  {
   "cell_type": "code",
   "execution_count": 96,
   "id": "85ef9b75-cec8-4af2-96ce-25710d859027",
   "metadata": {},
   "outputs": [
    {
     "name": "stdout",
     "output_type": "stream",
     "text": [
      "[[ 2  3  4]\n",
      " [ 2  6 12]\n",
      " [ 2  9 16]]\n"
     ]
    }
   ],
   "source": [
    "A_times_D = A @ D\n",
    "print(A_times_D)"
   ]
  },
  {
   "cell_type": "code",
   "execution_count": 98,
   "id": "635cfe4d-d171-4da3-9581-804f3f0e580b",
   "metadata": {},
   "outputs": [
    {
     "name": "stdout",
     "output_type": "stream",
     "text": [
      "[[ 2  2  2]\n",
      " [ 3  6  9]\n",
      " [ 4 12 16]]\n"
     ]
    }
   ],
   "source": [
    "D_times_A = D @ A\n",
    "print(D_times_A)"
   ]
  },
  {
   "cell_type": "markdown",
   "id": "6766eb35-2844-4139-9691-30a13077b628",
   "metadata": {},
   "source": [
    "Quiz on p.8, exercise 2."
   ]
  },
  {
   "cell_type": "code",
   "execution_count": 101,
   "id": "82f3284d-770b-4d98-a19a-3edbc1a7fb96",
   "metadata": {},
   "outputs": [],
   "source": [
    "A = np.array([[1, -1], \n",
    "              [-1, 1]])\n",
    "\n",
    "B = np.array([[-1, 1], \n",
    "              [1, -1]])"
   ]
  },
  {
   "cell_type": "code",
   "execution_count": 103,
   "id": "5bd04678-47f1-49c6-9af2-e6c75310d405",
   "metadata": {},
   "outputs": [
    {
     "name": "stdout",
     "output_type": "stream",
     "text": [
      "[[-2  2]\n",
      " [ 2 -2]]\n"
     ]
    }
   ],
   "source": [
    "A_times_B = A @ B\n",
    "print(A_times_B)"
   ]
  },
  {
   "cell_type": "markdown",
   "id": "325ab641-4506-482d-8b07-478efe1d4cac",
   "metadata": {},
   "source": [
    "So a) is correct!"
   ]
  },
  {
   "cell_type": "markdown",
   "id": "feeab120-b749-4285-a695-06cbfb39fc32",
   "metadata": {},
   "source": [
    "Chapter 6, exercise 1"
   ]
  },
  {
   "cell_type": "code",
   "execution_count": 107,
   "id": "a18eaa73-3833-42cb-9440-caa06c944420",
   "metadata": {},
   "outputs": [],
   "source": [
    "A = np.array([[5, 6], \n",
    "              [4, 5]])\n",
    "\n",
    "B = np.array([[6, 4], \n",
    "              [3, 3]])"
   ]
  },
  {
   "cell_type": "code",
   "execution_count": 111,
   "id": "48b1503c-7ec1-4760-a624-fa5776d35841",
   "metadata": {},
   "outputs": [
    {
     "name": "stdout",
     "output_type": "stream",
     "text": [
      "[[ 5. -6.]\n",
      " [-4.  5.]]\n"
     ]
    }
   ],
   "source": [
    "A_inverse = np.linalg.inv(A)\n",
    "print(A_inverse)"
   ]
  },
  {
   "cell_type": "code",
   "execution_count": 113,
   "id": "afda5801-74ae-4709-8a15-966834c24e63",
   "metadata": {},
   "outputs": [
    {
     "name": "stdout",
     "output_type": "stream",
     "text": [
      "[[ 0.5        -0.66666667]\n",
      " [-0.5         1.        ]]\n"
     ]
    }
   ],
   "source": [
    "B_inverse = np.linalg.inv(B)\n",
    "print(B_inverse)"
   ]
  },
  {
   "cell_type": "markdown",
   "id": "f036a98c-d8fe-4b89-8187-e4032604f26e",
   "metadata": {},
   "source": [
    "Quiz on p.15, exercise 3."
   ]
  },
  {
   "cell_type": "code",
   "execution_count": 118,
   "id": "ea384757-432a-459d-ab75-5437edb9baab",
   "metadata": {},
   "outputs": [],
   "source": [
    "A = np.array([[2, 2], \n",
    "              [1, 2]])"
   ]
  },
  {
   "cell_type": "code",
   "execution_count": 122,
   "id": "4f81a360-3e12-4db8-9d82-89548fd292dd",
   "metadata": {},
   "outputs": [
    {
     "name": "stdout",
     "output_type": "stream",
     "text": [
      "[[ 1.  -1. ]\n",
      " [-0.5  1. ]]\n"
     ]
    }
   ],
   "source": [
    "A_inverse = np.linalg.inv(A)\n",
    "print(A_inverse)"
   ]
  },
  {
   "cell_type": "markdown",
   "id": "97fcbb55-7bb4-482c-b024-0ceb89c8aae0",
   "metadata": {},
   "source": [
    "a) is correct!"
   ]
  },
  {
   "cell_type": "markdown",
   "id": "84d110e2-b499-4dcc-9ec3-2ff1553801a2",
   "metadata": {},
   "source": [
    "Chapter 10, exercise 1."
   ]
  },
  {
   "cell_type": "code",
   "execution_count": 132,
   "id": "14183538-9e59-4a64-856f-9d1656df40cf",
   "metadata": {},
   "outputs": [],
   "source": [
    "A1 = np.array([[3, -7, -2],\n",
    "               [-3, 5, 1],\n",
    "               [6, -4, 0]])"
   ]
  },
  {
   "cell_type": "code",
   "execution_count": 141,
   "id": "c05f6938-745a-49cd-9144-c97a006a4231",
   "metadata": {},
   "outputs": [],
   "source": [
    "B1 = np.array([-7, 5, 2])"
   ]
  },
  {
   "cell_type": "code",
   "execution_count": 143,
   "id": "a34427d0-3c78-437a-a89d-8c3c48c9d4bc",
   "metadata": {},
   "outputs": [
    {
     "name": "stdout",
     "output_type": "stream",
     "text": [
      "[ 3.  4. -6.]\n"
     ]
    }
   ],
   "source": [
    "a_solve = np.linalg.solve(A1, B1)\n",
    "print(a_solve)"
   ]
  },
  {
   "cell_type": "markdown",
   "id": "8d6d804f-ae18-43f8-ac0b-6c816e43dc2d",
   "metadata": {},
   "source": [
    "X1 = 3 X2 = 4 x3 = -6"
   ]
  },
  {
   "cell_type": "code",
   "execution_count": 148,
   "id": "1636bace-6698-4274-8672-7dfa2f6072f9",
   "metadata": {},
   "outputs": [],
   "source": [
    "A2 = np.array([[1, -2 ,3],\n",
    "               [-1, 3, -1],\n",
    "               [2, -5, 5]])"
   ]
  },
  {
   "cell_type": "code",
   "execution_count": 152,
   "id": "6d0e30e2-0c10-4dd9-914c-f4cb2e6b9347",
   "metadata": {},
   "outputs": [],
   "source": [
    "B2 = np.array([1, -1, 1])"
   ]
  },
  {
   "cell_type": "code",
   "execution_count": 156,
   "id": "e9b76fbb-238c-4a0a-b955-1a55cbf41015",
   "metadata": {},
   "outputs": [
    {
     "name": "stdout",
     "output_type": "stream",
     "text": [
      "[ 8.  2. -1.]\n"
     ]
    }
   ],
   "source": [
    "b_solve = np.linalg.solve(A2, B2)\n",
    "print(b_solve)"
   ]
  },
  {
   "cell_type": "markdown",
   "id": "131d1586-27b7-4660-8402-a63a334f837a",
   "metadata": {},
   "source": [
    "X1 = 8 X2 = 2 X3 = -1"
   ]
  },
  {
   "cell_type": "markdown",
   "id": "645a068d-8f70-4aa7-983c-5968050b66ba",
   "metadata": {},
   "source": [
    "Chapter 12 exercise 1"
   ]
  },
  {
   "cell_type": "code",
   "execution_count": 162,
   "id": "db4860ba-19b7-43bd-ac88-84ca94517959",
   "metadata": {},
   "outputs": [],
   "source": [
    "A = np.array([[3, -7, -2],\n",
    "              [-3, 5, 1],\n",
    "              [6, -4, 0]])"
   ]
  },
  {
   "cell_type": "code",
   "execution_count": 166,
   "id": "37fd01cd-1c76-46c3-bae5-3cf2da4164c7",
   "metadata": {},
   "outputs": [
    {
     "name": "stdout",
     "output_type": "stream",
     "text": [
      "[[ 0.66666667  1.33333333  0.5       ]\n",
      " [ 1.          2.          0.5       ]\n",
      " [-3.         -5.         -1.        ]]\n"
     ]
    }
   ],
   "source": [
    "A_inverse = np.linalg.inv(A)\n",
    "print(A_inverse)"
   ]
  },
  {
   "cell_type": "markdown",
   "id": "e9222889-0feb-45eb-bcdb-f1f53cde5811",
   "metadata": {},
   "source": [
    "# Chap2. Question 1.\n",
    "\n",
    "Write a function \"add_mult_matrices\" that takes two matrices as input arguments (validate that the input are of the type numpy.ndarray by using the isinstance function), a third argument that is either 'add' or 'multiply' that specifies if you want to add or multiply the matrices (validate that the third argument is either 'add' or 'multiply'). When doing matrix addition, validate that the matrices have the same size. When doing matrix multiplication, validate that the sizes conform (i.e. number of columns in the first matrix is equal to the number of rows in the second matrix).\n",
    "\n",
    "In this exercise, create a function that takes two matrices as input and either adds or multiplies them by specifying a argument as either 'add' or 'multiply'. Validate that both matrices taken as input are of the type ndarray (use the isinstance function)."
   ]
  },
  {
   "cell_type": "code",
   "execution_count": 183,
   "id": "9f2424f4-4402-4a3c-9e43-c45e39caf57e",
   "metadata": {},
   "outputs": [],
   "source": [
    "def add_mult_matrices(mat1, mat2, operation):\n",
    "    if not isinstance(mat1, np.ndarray) or not isinstance(mat2, np.ndarray):\n",
    "        raise valueError(\"Inputs must be of the type numpy.ndarray.\")\n",
    "    if operation == 'add':\n",
    "        if mat1.shape != mat2.shape:\n",
    "            raise ValuError(\"Matrices must be same size for addition!\")\n",
    "        return np.dot(mat1, mat2)\n",
    "    elif operation == 'multiply':\n",
    "        if mat1.shape[1] != mat2.shape[0]:\n",
    "            raise ValueError(\"Amount of numbers in columns on the first matrix must equal amount of rows on the second matrix for multiplication to work.\")\n",
    "        return np.dot(mat1, mat2)\n",
    "\n",
    "    else:\n",
    "        raise ValueError(\"Operation must be either 'Add' or 'multiply'.\")"
   ]
  },
  {
   "cell_type": "code",
   "execution_count": 185,
   "id": "47808073-29a9-48a0-9650-5dfa9b02f423",
   "metadata": {},
   "outputs": [],
   "source": [
    "A = np.array([[2, 1, -1], [1, -1, 1]])\n",
    "B = np.array([[4, -2, 1], [2, -4, -2]])"
   ]
  },
  {
   "cell_type": "code",
   "execution_count": 199,
   "id": "5874e9d2-9ce0-4823-9a9a-82e2c7d25890",
   "metadata": {},
   "outputs": [
    {
     "name": "stdout",
     "output_type": "stream",
     "text": [
      "[[5 2]\n",
      " [7 4]]\n"
     ]
    }
   ],
   "source": [
    "try:\n",
    "    multiply_matrices = add_mult_matrices(A, B.T, 'multiply')\n",
    "    print(multiply_matrices)\n",
    "except ValueError as e:\n",
    "    print(e)\n"
   ]
  },
  {
   "cell_type": "code",
   "execution_count": 201,
   "id": "d7b64601-3a0f-4639-9e00-c5f4bdef5b2c",
   "metadata": {},
   "outputs": [
    {
     "name": "stdout",
     "output_type": "stream",
     "text": [
      "shapes (2,3) and (2,3) not aligned: 3 (dim 1) != 2 (dim 0)\n"
     ]
    }
   ],
   "source": [
    "try:\n",
    "    add_matrices = add_mult_matrices(A, B, 'add')\n",
    "    print(add_matrices)\n",
    "except ValueError as e:\n",
    "    print(e)"
   ]
  },
  {
   "cell_type": "markdown",
   "id": "e7d9e204-b5c8-4c89-b386-5beaf1f7aa92",
   "metadata": {},
   "source": [
    "# Basic indexing creates a view, How can you check if v1 and v2 is a view or copy? If you change the last element in v2 to 123, will the last element in v1 be changed? Why?"
   ]
  },
  {
   "cell_type": "code",
   "execution_count": 232,
   "id": "2bd38bbf-47a9-43e3-b231-40adbf5ebb00",
   "metadata": {},
   "outputs": [
    {
     "name": "stdout",
     "output_type": "stream",
     "text": [
      "[0 1 2 3]\n",
      "[2 3]\n"
     ]
    }
   ],
   "source": [
    "v1 = np.arange(4)\n",
    "v2 = v1[-2:]\n",
    "print(v1)\n",
    "print(v2)"
   ]
  },
  {
   "cell_type": "code",
   "execution_count": 234,
   "id": "7e9ea264-3569-43c7-a853-22269ccd3a2f",
   "metadata": {},
   "outputs": [
    {
     "name": "stdout",
     "output_type": "stream",
     "text": [
      "None\n",
      "[0 1 2 3]\n"
     ]
    }
   ],
   "source": [
    "print(v1.base)\n",
    "print(v2.base)"
   ]
  },
  {
   "cell_type": "code",
   "execution_count": 236,
   "id": "621b16bd-a3e9-488b-9424-c5ef9c340884",
   "metadata": {},
   "outputs": [
    {
     "name": "stdout",
     "output_type": "stream",
     "text": [
      "[  0   1   2 123]\n",
      "[  2 123]\n"
     ]
    }
   ],
   "source": [
    "v2[-1] = 123\n",
    "print(v1)\n",
    "print(v2)"
   ]
  },
  {
   "cell_type": "markdown",
   "id": "6f2daa77-3e4b-4c30-86da-2955b72dbffb",
   "metadata": {},
   "source": [
    "Since v2 is a slice of v1. Numpy decides that v2 is a view of v1 to save energy. Just a effecient way for numpy to work, to save resources and be effective. Neither v1 or v2 is a copy, v1 is its own database and v2 is just a slice of it connected to that database because its just a part of v1. We see it by printing them both out using .base, v1 has no base since it holds its own data, v1 is the numbers that you see i representing. And v2 has v1 as its base since its a part of it. But that doesnt make it a copy, it makes it a view, a view of v1. So changing v2 will change v1 since they are connected, v2 is a part of v1. So changing v2 is changing a part of v1. Thats why the 123 also pops up on v1 after adding it to v2."
   ]
  }
 ],
 "metadata": {
  "kernelspec": {
   "display_name": "Python 3 (ipykernel)",
   "language": "python",
   "name": "python3"
  },
  "language_info": {
   "codemirror_mode": {
    "name": "ipython",
    "version": 3
   },
   "file_extension": ".py",
   "mimetype": "text/x-python",
   "name": "python",
   "nbconvert_exporter": "python",
   "pygments_lexer": "ipython3",
   "version": "3.12.4"
  }
 },
 "nbformat": 4,
 "nbformat_minor": 5
}
